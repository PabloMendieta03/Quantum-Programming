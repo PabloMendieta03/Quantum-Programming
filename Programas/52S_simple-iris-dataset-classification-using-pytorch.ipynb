{
 "cells": [
  {
   "cell_type": "code",
   "execution_count": 20,
   "id": "c1aded0d",
   "metadata": {
    "_cell_guid": "b8e33838-d67f-4fd0-ab44-064822938bcb",
    "_uuid": "2629654c-8f41-4676-96a4-687741e01ad7",
    "collapsed": false,
    "jupyter": {
     "outputs_hidden": false
    },
    "papermill": {
     "duration": 0.052897,
     "end_time": "2021-07-20T18:25:09.212092",
     "exception": false,
     "start_time": "2021-07-20T18:25:09.159195",
     "status": "completed"
    },
    "tags": []
   },
   "outputs": [],
   "source": [
    "# This Python 3 environment comes with many helpful analytics libraries installed\n",
    "# It is defined by the kaggle/python Docker image: https://github.com/kaggle/docker-python\n",
    "# For example, here's several helpful packages to load\n",
    "\n",
    "import numpy as np # linear algebra\n",
    "import pandas as pd # data processing, CSV file I/O (e.g. pd.read_csv)\n",
    "\n",
    "# Input data files are available in the read-only \"../input/\" directory\n",
    "# For example, running this (by clicking run or pressing Shift+Enter) will list all files under the input directory\n",
    "\n",
    "import os\n",
    "for dirname, _, filenames in os.walk('/kaggle/input'):\n",
    "    for filename in filenames:\n",
    "        print(os.path.join(dirname, filename))\n",
    "\n",
    "# You can write up to 20GB to the current directory (/kaggle/working/) that gets preserved as output when you create a version using \"Save & Run All\" \n",
    "# You can also write temporary files to /kaggle/temp/, but they won't be saved outside of the current session"
   ]
  },
  {
   "cell_type": "markdown",
   "id": "68688435",
   "metadata": {
    "_cell_guid": "50e4c431-433a-4491-8c3c-c6440068d189",
    "_uuid": "afd8ba84-edb7-4165-a641-0da4a196cfa6",
    "papermill": {
     "duration": 0.029099,
     "end_time": "2021-07-20T18:25:09.270382",
     "exception": false,
     "start_time": "2021-07-20T18:25:09.241283",
     "status": "completed"
    },
    "tags": []
   },
   "source": [
    "# Importing The Required Libraries"
   ]
  },
  {
   "cell_type": "code",
   "execution_count": 29,
   "id": "df849d15",
   "metadata": {},
   "outputs": [],
   "source": [
    "import torch\n",
    "import torch.nn as nn\n",
    "import matplotlib.pyplot as plt\n",
    "\n",
    "import numpy as np\n",
    "import pandas as pd\n",
    "import matplotlib.pyplot as plt\n",
    "import qiskit\n",
    "from sklearn import datasets\n",
    "\n",
    "from qiskit_aer import AerSimulator\n",
    "from qiskit.transpiler.preset_passmanagers import generate_preset_pass_manager\n",
    "from qiskit_ibm_runtime import Session, SamplerV2 as Sampler\n",
    "\n",
    "from qiskit.circuit import Parameter\n",
    "from tqdm import tqdm"
   ]
  },
  {
   "cell_type": "code",
   "execution_count": 34,
   "id": "bedf087d",
   "metadata": {
    "_cell_guid": "079121a7-5693-454b-bfde-6177b579f2d0",
    "_uuid": "5afeabe9-2fe7-43ca-b5cb-7deb56a13737",
    "collapsed": false,
    "jupyter": {
     "outputs_hidden": false
    },
    "papermill": {
     "duration": 0.04584,
     "end_time": "2021-07-20T18:25:10.486019",
     "exception": false,
     "start_time": "2021-07-20T18:25:10.440179",
     "status": "completed"
    },
    "tags": []
   },
   "outputs": [],
   "source": [
    "# Cargar el conjunto de datos Iris\n",
    "iris = datasets.load_iris()"
   ]
  },
  {
   "cell_type": "code",
   "execution_count": 35,
   "id": "463266e8",
   "metadata": {
    "_cell_guid": "d4e04c7a-7753-48e2-818a-6778e2aeeded",
    "_uuid": "f38a34e0-9f1c-410b-9001-dae6ac423287",
    "collapsed": false,
    "jupyter": {
     "outputs_hidden": false
    },
    "papermill": {
     "duration": 0.068823,
     "end_time": "2021-07-20T18:25:10.583803",
     "exception": false,
     "start_time": "2021-07-20T18:25:10.514980",
     "status": "completed"
    },
    "tags": []
   },
   "outputs": [
    {
     "name": "stdout",
     "output_type": "stream",
     "text": [
      "   sepal length (cm)  sepal width (cm)  petal length (cm)  petal width (cm)  \\\n",
      "0                5.1               3.5                1.4               0.2   \n",
      "1                4.9               3.0                1.4               0.2   \n",
      "2                4.7               3.2                1.3               0.2   \n",
      "3                4.6               3.1                1.5               0.2   \n",
      "4                5.0               3.6                1.4               0.2   \n",
      "\n",
      "   target  \n",
      "0       0  \n",
      "1       0  \n",
      "2       0  \n",
      "3       0  \n",
      "4       0  \n"
     ]
    }
   ],
   "source": [
    "# Convertirlo a un DataFrame de pandas\n",
    "df1 = pd.DataFrame(data=iris.data, columns=iris.feature_names)\n",
    "\n",
    "# Agregar la columna de etiquetas (clases)\n",
    "df1['target'] = iris.target\n",
    "\n",
    "# Mostrar las primeras filas\n",
    "print(df1.head())"
   ]
  },
  {
   "cell_type": "markdown",
   "id": "cc4ddd32",
   "metadata": {
    "_cell_guid": "3e29c617-4ae7-4866-bb98-02aca227b294",
    "_uuid": "ce22a238-9f3b-4746-97dc-ff03d43fc73b",
    "papermill": {
     "duration": 0.035531,
     "end_time": "2021-07-20T18:25:10.661755",
     "exception": false,
     "start_time": "2021-07-20T18:25:10.626224",
     "status": "completed"
    },
    "tags": []
   },
   "source": [
    "# Creating A Function To Get The Details of The Dataset"
   ]
  },
  {
   "cell_type": "code",
   "execution_count": 36,
   "id": "9daeed1b",
   "metadata": {
    "_cell_guid": "68331b2b-d42e-4b5b-ad34-99b0a173a37c",
    "_uuid": "9af04a79-fb61-4486-a35f-59d12fd6a213",
    "collapsed": false,
    "jupyter": {
     "outputs_hidden": false
    },
    "papermill": {
     "duration": 0.038504,
     "end_time": "2021-07-20T18:25:10.730384",
     "exception": false,
     "start_time": "2021-07-20T18:25:10.691880",
     "status": "completed"
    },
    "tags": []
   },
   "outputs": [],
   "source": [
    "def get_info_dataframe(dataframe):\n",
    "    print(f\"DATAFRAME GENERAL INFO - \\n\")\n",
    "    print(dataframe.info(),\"\\n\")\n",
    "    print(f\"DATAFRAME MISSING INFO - \\n\")\n",
    "    print(dataframe.isnull().sum(),\"\\n\")\n",
    "    print(f\"DATAFRAME SHAPE INFO - \\n\")\n",
    "    print(dataframe.shape)"
   ]
  },
  {
   "cell_type": "code",
   "execution_count": 37,
   "id": "6628d345",
   "metadata": {
    "_cell_guid": "63bccfc5-033f-493d-b8a3-246b80d75589",
    "_uuid": "bc90b287-6c3f-4146-9b86-433519f8e49e",
    "collapsed": false,
    "jupyter": {
     "outputs_hidden": false
    },
    "papermill": {
     "duration": 0.053433,
     "end_time": "2021-07-20T18:25:10.813558",
     "exception": false,
     "start_time": "2021-07-20T18:25:10.760125",
     "status": "completed"
    },
    "tags": []
   },
   "outputs": [
    {
     "name": "stdout",
     "output_type": "stream",
     "text": [
      "DATAFRAME GENERAL INFO - \n",
      "\n",
      "<class 'pandas.core.frame.DataFrame'>\n",
      "RangeIndex: 150 entries, 0 to 149\n",
      "Data columns (total 5 columns):\n",
      " #   Column             Non-Null Count  Dtype  \n",
      "---  ------             --------------  -----  \n",
      " 0   sepal length (cm)  150 non-null    float64\n",
      " 1   sepal width (cm)   150 non-null    float64\n",
      " 2   petal length (cm)  150 non-null    float64\n",
      " 3   petal width (cm)   150 non-null    float64\n",
      " 4   target             150 non-null    int32  \n",
      "dtypes: float64(4), int32(1)\n",
      "memory usage: 5.4 KB\n",
      "None \n",
      "\n",
      "DATAFRAME MISSING INFO - \n",
      "\n",
      "sepal length (cm)    0\n",
      "sepal width (cm)     0\n",
      "petal length (cm)    0\n",
      "petal width (cm)     0\n",
      "target               0\n",
      "dtype: int64 \n",
      "\n",
      "DATAFRAME SHAPE INFO - \n",
      "\n",
      "(150, 5)\n"
     ]
    }
   ],
   "source": [
    "get_info_dataframe(df1)"
   ]
  },
  {
   "cell_type": "code",
   "execution_count": 38,
   "id": "e383b508",
   "metadata": {
    "_cell_guid": "ad808200-a38c-4685-b001-adbfeaa7fe7d",
    "_uuid": "ec5d0735-6139-454c-a0ee-747398756811",
    "collapsed": false,
    "jupyter": {
     "outputs_hidden": false
    },
    "papermill": {
     "duration": 0.039631,
     "end_time": "2021-07-20T18:25:10.881966",
     "exception": false,
     "start_time": "2021-07-20T18:25:10.842335",
     "status": "completed"
    },
    "tags": []
   },
   "outputs": [
    {
     "ename": "KeyError",
     "evalue": "'Species'",
     "output_type": "error",
     "traceback": [
      "\u001b[1;31m---------------------------------------------------------------------------\u001b[0m",
      "\u001b[1;31mKeyError\u001b[0m                                  Traceback (most recent call last)",
      "File \u001b[1;32m~\\AppData\\Local\\Packages\\PythonSoftwareFoundation.Python.3.11_qbz5n2kfra8p0\\LocalCache\\local-packages\\Python311\\site-packages\\pandas\\core\\indexes\\base.py:3802\u001b[0m, in \u001b[0;36mIndex.get_loc\u001b[1;34m(self, key, method, tolerance)\u001b[0m\n\u001b[0;32m   3801\u001b[0m \u001b[38;5;28;01mtry\u001b[39;00m:\n\u001b[1;32m-> 3802\u001b[0m     \u001b[38;5;28;01mreturn\u001b[39;00m \u001b[38;5;28;43mself\u001b[39;49m\u001b[38;5;241;43m.\u001b[39;49m\u001b[43m_engine\u001b[49m\u001b[38;5;241;43m.\u001b[39;49m\u001b[43mget_loc\u001b[49m\u001b[43m(\u001b[49m\u001b[43mcasted_key\u001b[49m\u001b[43m)\u001b[49m\n\u001b[0;32m   3803\u001b[0m \u001b[38;5;28;01mexcept\u001b[39;00m \u001b[38;5;167;01mKeyError\u001b[39;00m \u001b[38;5;28;01mas\u001b[39;00m err:\n",
      "File \u001b[1;32m~\\AppData\\Local\\Packages\\PythonSoftwareFoundation.Python.3.11_qbz5n2kfra8p0\\LocalCache\\local-packages\\Python311\\site-packages\\pandas\\_libs\\index.pyx:138\u001b[0m, in \u001b[0;36mpandas._libs.index.IndexEngine.get_loc\u001b[1;34m()\u001b[0m\n",
      "File \u001b[1;32m~\\AppData\\Local\\Packages\\PythonSoftwareFoundation.Python.3.11_qbz5n2kfra8p0\\LocalCache\\local-packages\\Python311\\site-packages\\pandas\\_libs\\index.pyx:165\u001b[0m, in \u001b[0;36mpandas._libs.index.IndexEngine.get_loc\u001b[1;34m()\u001b[0m\n",
      "File \u001b[1;32mpandas\\_libs\\hashtable_class_helper.pxi:5745\u001b[0m, in \u001b[0;36mpandas._libs.hashtable.PyObjectHashTable.get_item\u001b[1;34m()\u001b[0m\n",
      "File \u001b[1;32mpandas\\_libs\\hashtable_class_helper.pxi:5753\u001b[0m, in \u001b[0;36mpandas._libs.hashtable.PyObjectHashTable.get_item\u001b[1;34m()\u001b[0m\n",
      "\u001b[1;31mKeyError\u001b[0m: 'Species'",
      "\nThe above exception was the direct cause of the following exception:\n",
      "\u001b[1;31mKeyError\u001b[0m                                  Traceback (most recent call last)",
      "Cell \u001b[1;32mIn[38], line 1\u001b[0m\n\u001b[1;32m----> 1\u001b[0m \u001b[43mdf1\u001b[49m\u001b[43m[\u001b[49m\u001b[38;5;124;43m'\u001b[39;49m\u001b[38;5;124;43mSpecies\u001b[39;49m\u001b[38;5;124;43m'\u001b[39;49m\u001b[43m]\u001b[49m\u001b[38;5;241m.\u001b[39munique()\n",
      "File \u001b[1;32m~\\AppData\\Local\\Packages\\PythonSoftwareFoundation.Python.3.11_qbz5n2kfra8p0\\LocalCache\\local-packages\\Python311\\site-packages\\pandas\\core\\frame.py:3807\u001b[0m, in \u001b[0;36mDataFrame.__getitem__\u001b[1;34m(self, key)\u001b[0m\n\u001b[0;32m   3805\u001b[0m \u001b[38;5;28;01mif\u001b[39;00m \u001b[38;5;28mself\u001b[39m\u001b[38;5;241m.\u001b[39mcolumns\u001b[38;5;241m.\u001b[39mnlevels \u001b[38;5;241m>\u001b[39m \u001b[38;5;241m1\u001b[39m:\n\u001b[0;32m   3806\u001b[0m     \u001b[38;5;28;01mreturn\u001b[39;00m \u001b[38;5;28mself\u001b[39m\u001b[38;5;241m.\u001b[39m_getitem_multilevel(key)\n\u001b[1;32m-> 3807\u001b[0m indexer \u001b[38;5;241m=\u001b[39m \u001b[38;5;28;43mself\u001b[39;49m\u001b[38;5;241;43m.\u001b[39;49m\u001b[43mcolumns\u001b[49m\u001b[38;5;241;43m.\u001b[39;49m\u001b[43mget_loc\u001b[49m\u001b[43m(\u001b[49m\u001b[43mkey\u001b[49m\u001b[43m)\u001b[49m\n\u001b[0;32m   3808\u001b[0m \u001b[38;5;28;01mif\u001b[39;00m is_integer(indexer):\n\u001b[0;32m   3809\u001b[0m     indexer \u001b[38;5;241m=\u001b[39m [indexer]\n",
      "File \u001b[1;32m~\\AppData\\Local\\Packages\\PythonSoftwareFoundation.Python.3.11_qbz5n2kfra8p0\\LocalCache\\local-packages\\Python311\\site-packages\\pandas\\core\\indexes\\base.py:3804\u001b[0m, in \u001b[0;36mIndex.get_loc\u001b[1;34m(self, key, method, tolerance)\u001b[0m\n\u001b[0;32m   3802\u001b[0m     \u001b[38;5;28;01mreturn\u001b[39;00m \u001b[38;5;28mself\u001b[39m\u001b[38;5;241m.\u001b[39m_engine\u001b[38;5;241m.\u001b[39mget_loc(casted_key)\n\u001b[0;32m   3803\u001b[0m \u001b[38;5;28;01mexcept\u001b[39;00m \u001b[38;5;167;01mKeyError\u001b[39;00m \u001b[38;5;28;01mas\u001b[39;00m err:\n\u001b[1;32m-> 3804\u001b[0m     \u001b[38;5;28;01mraise\u001b[39;00m \u001b[38;5;167;01mKeyError\u001b[39;00m(key) \u001b[38;5;28;01mfrom\u001b[39;00m \u001b[38;5;21;01merr\u001b[39;00m\n\u001b[0;32m   3805\u001b[0m \u001b[38;5;28;01mexcept\u001b[39;00m \u001b[38;5;167;01mTypeError\u001b[39;00m:\n\u001b[0;32m   3806\u001b[0m     \u001b[38;5;66;03m# If we have a listlike key, _check_indexing_error will raise\u001b[39;00m\n\u001b[0;32m   3807\u001b[0m     \u001b[38;5;66;03m#  InvalidIndexError. Otherwise we fall through and re-raise\u001b[39;00m\n\u001b[0;32m   3808\u001b[0m     \u001b[38;5;66;03m#  the TypeError.\u001b[39;00m\n\u001b[0;32m   3809\u001b[0m     \u001b[38;5;28mself\u001b[39m\u001b[38;5;241m.\u001b[39m_check_indexing_error(key)\n",
      "\u001b[1;31mKeyError\u001b[0m: 'Species'"
     ]
    }
   ],
   "source": [
    "df1['Species'].unique()"
   ]
  },
  {
   "cell_type": "markdown",
   "id": "98165e6a",
   "metadata": {
    "_cell_guid": "5fbeecb7-dacd-4410-953f-cd74b28c0bb0",
    "_uuid": "136025b7-1849-4a01-830f-ae638ee39660",
    "papermill": {
     "duration": 0.029059,
     "end_time": "2021-07-20T18:25:10.939440",
     "exception": false,
     "start_time": "2021-07-20T18:25:10.910381",
     "status": "completed"
    },
    "tags": []
   },
   "source": [
    "# LabelEncoding The Attributes of The Target Column"
   ]
  },
  {
   "cell_type": "code",
   "execution_count": null,
   "id": "b0854fb5",
   "metadata": {
    "_cell_guid": "a46614c4-d2f7-41e3-905d-3c492b698e1f",
    "_uuid": "c739d74d-fc07-481d-834c-d5223c031692",
    "collapsed": false,
    "jupyter": {
     "outputs_hidden": false
    },
    "papermill": {
     "duration": 0.038407,
     "end_time": "2021-07-20T18:25:11.008625",
     "exception": false,
     "start_time": "2021-07-20T18:25:10.970218",
     "status": "completed"
    },
    "tags": []
   },
   "outputs": [],
   "source": [
    "df1['Species'] = df1['Species'].map({'Iris-setosa':0,'Iris-versicolor':1,'Iris-virginica':2})"
   ]
  },
  {
   "cell_type": "code",
   "execution_count": null,
   "id": "7907d3df",
   "metadata": {
    "_cell_guid": "f222ba25-ac52-4c0f-b645-fc6fef575d4c",
    "_uuid": "123dab47-86f8-4593-b658-ef4ea3f86538",
    "collapsed": false,
    "jupyter": {
     "outputs_hidden": false
    },
    "papermill": {
     "duration": 0.047698,
     "end_time": "2021-07-20T18:25:11.085559",
     "exception": false,
     "start_time": "2021-07-20T18:25:11.037861",
     "status": "completed"
    },
    "tags": []
   },
   "outputs": [],
   "source": [
    "df1.head()"
   ]
  },
  {
   "cell_type": "code",
   "execution_count": null,
   "id": "94c6b14d",
   "metadata": {
    "_cell_guid": "d80f75a8-514b-4ead-bb39-026b365c76fc",
    "_uuid": "811b959a-655a-4131-980f-56763a5780fd",
    "collapsed": false,
    "jupyter": {
     "outputs_hidden": false
    },
    "papermill": {
     "duration": 0.039197,
     "end_time": "2021-07-20T18:25:11.155688",
     "exception": false,
     "start_time": "2021-07-20T18:25:11.116491",
     "status": "completed"
    },
    "tags": []
   },
   "outputs": [],
   "source": [
    "df1.drop(['Id'],axis=1,inplace=True)"
   ]
  },
  {
   "cell_type": "code",
   "execution_count": null,
   "id": "ee3ca4a1",
   "metadata": {
    "_cell_guid": "f4faa212-d654-4cec-8cf8-17563095038b",
    "_uuid": "026f5f6a-d04e-4767-b17f-1af9ab7216a3",
    "collapsed": false,
    "jupyter": {
     "outputs_hidden": false
    },
    "papermill": {
     "duration": 0.045474,
     "end_time": "2021-07-20T18:25:11.232051",
     "exception": false,
     "start_time": "2021-07-20T18:25:11.186577",
     "status": "completed"
    },
    "tags": []
   },
   "outputs": [],
   "source": [
    "df1.head()"
   ]
  },
  {
   "cell_type": "code",
   "execution_count": null,
   "id": "ac262563",
   "metadata": {
    "_cell_guid": "f4e2d8c8-ce22-4c0f-a6ad-c86ad8d31a48",
    "_uuid": "bd32fb86-b85b-4848-af08-56148f117ab2",
    "collapsed": false,
    "jupyter": {
     "outputs_hidden": false
    },
    "papermill": {
     "duration": 0.038931,
     "end_time": "2021-07-20T18:25:11.302296",
     "exception": false,
     "start_time": "2021-07-20T18:25:11.263365",
     "status": "completed"
    },
    "tags": []
   },
   "outputs": [],
   "source": [
    "X = df1.drop([\"Species\"],axis=1).values\n",
    "y = df1[\"Species\"].values"
   ]
  },
  {
   "cell_type": "code",
   "execution_count": null,
   "id": "c71a38e7",
   "metadata": {
    "_cell_guid": "13611d31-f4ea-479e-b4e6-838717f7eec7",
    "_uuid": "15c548da-dec4-4dcf-8a41-71fbcfb5f380",
    "collapsed": false,
    "jupyter": {
     "outputs_hidden": false
    },
    "papermill": {
     "duration": 0.974827,
     "end_time": "2021-07-20T18:25:12.308235",
     "exception": false,
     "start_time": "2021-07-20T18:25:11.333408",
     "status": "completed"
    },
    "tags": []
   },
   "outputs": [],
   "source": [
    "from sklearn.preprocessing import StandardScaler\n",
    "from sklearn.model_selection import train_test_split"
   ]
  },
  {
   "cell_type": "code",
   "execution_count": null,
   "id": "5ef4333a",
   "metadata": {
    "_cell_guid": "3bc6f2f9-9b29-465c-b51b-2ca5a0eb4616",
    "_uuid": "2c84bc78-06dc-46b8-984f-71232cc55578",
    "collapsed": false,
    "jupyter": {
     "outputs_hidden": false
    },
    "papermill": {
     "duration": 0.037499,
     "end_time": "2021-07-20T18:25:12.376900",
     "exception": false,
     "start_time": "2021-07-20T18:25:12.339401",
     "status": "completed"
    },
    "tags": []
   },
   "outputs": [],
   "source": [
    "scaler = StandardScaler()"
   ]
  },
  {
   "cell_type": "markdown",
   "id": "debda32f",
   "metadata": {
    "papermill": {
     "duration": 0.03312,
     "end_time": "2021-07-20T18:25:12.440795",
     "exception": false,
     "start_time": "2021-07-20T18:25:12.407675",
     "status": "completed"
    },
    "tags": []
   },
   "source": [
    "# Doing The Train Test Split And Scaling The Data"
   ]
  },
  {
   "cell_type": "code",
   "execution_count": null,
   "id": "254d5228",
   "metadata": {
    "_cell_guid": "b780843c-d4a8-4e45-b495-a9201f1a0ea7",
    "_uuid": "702cd513-366d-4724-ba6b-c97371bc8a4f",
    "collapsed": false,
    "jupyter": {
     "outputs_hidden": false
    },
    "papermill": {
     "duration": 0.038533,
     "end_time": "2021-07-20T18:25:12.509399",
     "exception": false,
     "start_time": "2021-07-20T18:25:12.470866",
     "status": "completed"
    },
    "tags": []
   },
   "outputs": [],
   "source": [
    "X_train, X_test, y_train, y_test = train_test_split(X, y, test_size=0.30, random_state=42)"
   ]
  },
  {
   "cell_type": "code",
   "execution_count": null,
   "id": "4bd2ae1b",
   "metadata": {
    "_cell_guid": "e8f8d8a6-805a-48c1-9058-b34c45c400a5",
    "_uuid": "f610020b-b39f-47a6-a63f-87ea3b2d33f3",
    "collapsed": false,
    "jupyter": {
     "outputs_hidden": false
    },
    "papermill": {
     "duration": 0.038313,
     "end_time": "2021-07-20T18:25:12.578540",
     "exception": false,
     "start_time": "2021-07-20T18:25:12.540227",
     "status": "completed"
    },
    "tags": []
   },
   "outputs": [],
   "source": [
    "X_train = scaler.fit_transform(X_train)\n",
    "X_test = scaler.transform(X_test)"
   ]
  },
  {
   "cell_type": "markdown",
   "id": "9a362e78",
   "metadata": {
    "papermill": {
     "duration": 0.031289,
     "end_time": "2021-07-20T18:25:12.639535",
     "exception": false,
     "start_time": "2021-07-20T18:25:12.608246",
     "status": "completed"
    },
    "tags": []
   },
   "source": [
    "# Converting From Numpy Array To Torch Tensor"
   ]
  },
  {
   "cell_type": "code",
   "execution_count": null,
   "id": "00a84b22",
   "metadata": {
    "_cell_guid": "8e04a541-7524-43fe-9b46-38d2e28c53bf",
    "_uuid": "ad8c9423-839f-47c6-8c95-15a511d1099d",
    "collapsed": false,
    "jupyter": {
     "outputs_hidden": false
    },
    "papermill": {
     "duration": 0.056827,
     "end_time": "2021-07-20T18:25:12.727196",
     "exception": false,
     "start_time": "2021-07-20T18:25:12.670369",
     "status": "completed"
    },
    "tags": []
   },
   "outputs": [],
   "source": [
    "X_train = torch.FloatTensor(X_train)\n",
    "X_test = torch.FloatTensor(X_test)\n",
    "y_train = torch.LongTensor(y_train)\n",
    "y_test = torch.LongTensor(y_test)"
   ]
  },
  {
   "cell_type": "markdown",
   "id": "2b057ee7",
   "metadata": {
    "papermill": {
     "duration": 0.029495,
     "end_time": "2021-07-20T18:25:12.786179",
     "exception": false,
     "start_time": "2021-07-20T18:25:12.756684",
     "status": "completed"
    },
    "tags": []
   },
   "source": [
    "# Creating Our Neural Network Model For Classification"
   ]
  },
  {
   "cell_type": "code",
   "execution_count": null,
   "id": "3ce955aa-7cc7-4637-b1b7-f61749493fa5",
   "metadata": {},
   "outputs": [],
   "source": [
    "# declare quantum instance\n",
    "qi = QuantumInstance(Aer.get_backend(\"aer_simulator_statevector\"))"
   ]
  },
  {
   "cell_type": "code",
   "execution_count": null,
   "id": "539c8774-b68d-411d-b9ab-29f7e731decb",
   "metadata": {},
   "outputs": [],
   "source": [
    "# input_dim = 4 because we have 4 inputs namely sepal_length,sepal_width,petal_length,petal_width\n",
    "# output_dim = 3 because we have namely 3 categories setosa,versicolor and virginica\n",
    "input_dim  = 4 \n",
    "output_dim = 3"
   ]
  },
  {
   "cell_type": "code",
   "execution_count": null,
   "id": "9d573e56-373b-4133-91d6-b582927c9e0a",
   "metadata": {},
   "outputs": [],
   "source": [
    "# Define and create QNN\n",
    "def create_qnn():\n",
    "    feature_map = ZZFeatureMap(2)\n",
    "    ansatz = RealAmplitudes(2, reps=1)\n",
    "    # REMEMBER TO SET input_gradients=True FOR ENABLING HYBRID GRADIENT BACKPROP\n",
    "    qnn = TwoLayerQNN(\n",
    "        2,\n",
    "        feature_map,\n",
    "        ansatz,\n",
    "        input_gradients=True,\n",
    "        exp_val=AerPauliExpectation(),\n",
    "        quantum_instance=qi,\n",
    "    )\n",
    "    return qnn\n",
    "\n",
    "\n",
    "qnn = create_qnn()\n",
    "print(qnn.operator)"
   ]
  },
  {
   "cell_type": "code",
   "execution_count": null,
   "id": "e11761e6",
   "metadata": {
    "_cell_guid": "0a4541eb-bde5-4fd7-8fbc-2d6ee529c2ba",
    "_uuid": "7be16122-048c-4dd4-8e72-bc066ac486fe",
    "collapsed": false,
    "jupyter": {
     "outputs_hidden": false
    },
    "papermill": {
     "duration": 0.039635,
     "end_time": "2021-07-20T18:25:12.856166",
     "exception": false,
     "start_time": "2021-07-20T18:25:12.816531",
     "status": "completed"
    },
    "tags": []
   },
   "outputs": [],
   "source": [
    "class NeuralNetworkClassificationModel(nn.Module):\n",
    "    def __init__(self,input_dim,output_dim):\n",
    "        super(NeuralNetworkClassificationModel,self).__init__()\n",
    "        self.input_layer    = nn.Linear(input_dim,2)\n",
    "        self.hidden_layer1  = TorchConnector(qnn)\n",
    "        self.output_layer   = nn.Linear(1,output_dim)\n",
    "        self.relu = nn.ReLU()\n",
    "    \n",
    "    \n",
    "    def forward(self,x):\n",
    "        out =  self.relu(self.input_layer(x))\n",
    "        out =  self.relu(self.hidden_layer1(out))\n",
    "        out =  self.output_layer(out)\n",
    "        return out"
   ]
  },
  {
   "cell_type": "code",
   "execution_count": null,
   "id": "81dd1cd5",
   "metadata": {
    "_cell_guid": "7d5910e3-efe5-4b33-91f2-13cad14d65fa",
    "_uuid": "066d7bca-76ee-4223-b77d-1fa5076a818e",
    "collapsed": false,
    "jupyter": {
     "outputs_hidden": false
    },
    "papermill": {
     "duration": 0.044541,
     "end_time": "2021-07-20T18:25:12.930315",
     "exception": false,
     "start_time": "2021-07-20T18:25:12.885774",
     "status": "completed"
    },
    "tags": []
   },
   "outputs": [],
   "source": [
    "\n",
    "model = NeuralNetworkClassificationModel(input_dim,output_dim)"
   ]
  },
  {
   "cell_type": "code",
   "execution_count": null,
   "id": "f1ea0563",
   "metadata": {
    "_cell_guid": "516cd875-5679-4183-a316-402ffd58a688",
    "_uuid": "85f761ac-d238-4082-9817-f3f50f56bd3a",
    "collapsed": false,
    "jupyter": {
     "outputs_hidden": false
    },
    "papermill": {
     "duration": 0.036746,
     "end_time": "2021-07-20T18:25:12.996816",
     "exception": false,
     "start_time": "2021-07-20T18:25:12.960070",
     "status": "completed"
    },
    "tags": []
   },
   "outputs": [],
   "source": [
    "# creating our optimizer and loss function object\n",
    "learning_rate = 0.01\n",
    "criterion = nn.CrossEntropyLoss()\n",
    "optimizer = torch.optim.Adam(model.parameters(),lr=learning_rate)"
   ]
  },
  {
   "cell_type": "code",
   "execution_count": null,
   "id": "30eb5237",
   "metadata": {
    "_cell_guid": "7e49f67e-a267-4b30-ae52-63bc81d3dcd5",
    "_uuid": "8c1d977d-fb09-4976-b45e-6eec4cdcf6a9",
    "collapsed": false,
    "jupyter": {
     "outputs_hidden": false
    },
    "papermill": {
     "duration": 0.040932,
     "end_time": "2021-07-20T18:25:13.068956",
     "exception": false,
     "start_time": "2021-07-20T18:25:13.028024",
     "status": "completed"
    },
    "tags": []
   },
   "outputs": [],
   "source": [
    "def train_network(model,optimizer,criterion,X_train,y_train,X_test,y_test,num_epochs,train_losses,test_losses):\n",
    "    for epoch in range(num_epochs):\n",
    "        #clear out the gradients from the last step loss.backward()\n",
    "        optimizer.zero_grad()\n",
    "        \n",
    "        #forward feed\n",
    "        output_train = model(X_train)\n",
    "\n",
    "        #calculate the loss\n",
    "        loss_train = criterion(output_train, y_train)\n",
    "        \n",
    "\n",
    "\n",
    "        #backward propagation: calculate gradients\n",
    "        loss_train.backward()\n",
    "\n",
    "        #update the weights\n",
    "        optimizer.step()\n",
    "\n",
    "        \n",
    "        output_test = model(X_test)\n",
    "        loss_test = criterion(output_test,y_test)\n",
    "\n",
    "        train_losses[epoch] = loss_train.item()\n",
    "        test_losses[epoch] = loss_test.item()\n",
    "\n",
    "        if (epoch + 1) % 50 == 0:\n",
    "            print(f\"Epoch {epoch+1}/{num_epochs}, Train Loss: {loss_train.item():.4f}, Test Loss: {loss_test.item():.4f}\")"
   ]
  },
  {
   "cell_type": "code",
   "execution_count": null,
   "id": "ef78b5c4",
   "metadata": {
    "_cell_guid": "6b1fb37d-e685-41e9-ac5c-c4a7a9bf2805",
    "_uuid": "4a80c1af-a548-4830-8b68-f9ce77f863d4",
    "collapsed": false,
    "jupyter": {
     "outputs_hidden": false
    },
    "papermill": {
     "duration": 0.036826,
     "end_time": "2021-07-20T18:25:13.135901",
     "exception": false,
     "start_time": "2021-07-20T18:25:13.099075",
     "status": "completed"
    },
    "tags": []
   },
   "outputs": [],
   "source": [
    "num_epochs = 1000\n",
    "train_losses = np.zeros(num_epochs)\n",
    "test_losses  = np.zeros(num_epochs)"
   ]
  },
  {
   "cell_type": "code",
   "execution_count": null,
   "id": "8ab3042a",
   "metadata": {
    "_cell_guid": "67b5f88a-b8a6-4e2e-86ac-986cc952498e",
    "_uuid": "2dbb9a3c-3d13-49b2-b978-1bd3107d72cb",
    "collapsed": false,
    "jupyter": {
     "outputs_hidden": false
    },
    "papermill": {
     "duration": 1.814088,
     "end_time": "2021-07-20T18:25:14.981419",
     "exception": false,
     "start_time": "2021-07-20T18:25:13.167331",
     "status": "completed"
    },
    "tags": []
   },
   "outputs": [],
   "source": [
    "train_network(model,optimizer,criterion,X_train,y_train,X_test,y_test,num_epochs,train_losses,test_losses)"
   ]
  },
  {
   "cell_type": "code",
   "execution_count": null,
   "id": "a70f6038",
   "metadata": {
    "_cell_guid": "09514869-9b65-4631-9174-2222c3a5f460",
    "_uuid": "1e60e86d-ff1c-45d1-87e0-350260c6a601",
    "collapsed": false,
    "jupyter": {
     "outputs_hidden": false
    },
    "papermill": {
     "duration": 0.331028,
     "end_time": "2021-07-20T18:25:15.345024",
     "exception": false,
     "start_time": "2021-07-20T18:25:15.013996",
     "status": "completed"
    },
    "tags": []
   },
   "outputs": [],
   "source": [
    "plt.figure(figsize=(10,10))\n",
    "plt.plot(train_losses, label='train loss')\n",
    "plt.plot(test_losses, label='test loss')\n",
    "plt.legend()\n",
    "plt.show()"
   ]
  },
  {
   "cell_type": "code",
   "execution_count": null,
   "id": "a8afbb75",
   "metadata": {
    "_cell_guid": "d5feec25-0c3a-48f5-9372-39d68c45710d",
    "_uuid": "d7687301-5807-48da-a5a0-1bb3d6a4d93d",
    "collapsed": false,
    "jupyter": {
     "outputs_hidden": false
    },
    "papermill": {
     "duration": 0.039797,
     "end_time": "2021-07-20T18:25:15.418212",
     "exception": false,
     "start_time": "2021-07-20T18:25:15.378415",
     "status": "completed"
    },
    "tags": []
   },
   "outputs": [],
   "source": [
    "predictions_train = []\n",
    "predictions_test =  []\n",
    "with torch.no_grad():\n",
    "    predictions_train = model(X_train)\n",
    "    predictions_test = model(X_test)"
   ]
  },
  {
   "cell_type": "code",
   "execution_count": null,
   "id": "b9f8b082",
   "metadata": {
    "papermill": {
     "duration": 0.038871,
     "end_time": "2021-07-20T18:25:15.492276",
     "exception": false,
     "start_time": "2021-07-20T18:25:15.453405",
     "status": "completed"
    },
    "tags": []
   },
   "outputs": [],
   "source": [
    "# Check how the predicted outputs look like and after taking argmax compare with y_train or y_test \n",
    "#predictions_train  \n",
    "#y_train,y_test"
   ]
  },
  {
   "cell_type": "code",
   "execution_count": null,
   "id": "eebdf7cb",
   "metadata": {
    "_cell_guid": "a1482815-9663-40a3-9862-74629256a354",
    "_uuid": "02d8e76a-b8a1-421c-a700-a37b7a39d6da",
    "collapsed": false,
    "jupyter": {
     "outputs_hidden": false
    },
    "papermill": {
     "duration": 0.041993,
     "end_time": "2021-07-20T18:25:15.567440",
     "exception": false,
     "start_time": "2021-07-20T18:25:15.525447",
     "status": "completed"
    },
    "tags": []
   },
   "outputs": [],
   "source": [
    "def get_accuracy_multiclass(pred_arr,original_arr):\n",
    "    if len(pred_arr)!=len(original_arr):\n",
    "        return False\n",
    "    pred_arr = pred_arr.numpy()\n",
    "    original_arr = original_arr.numpy()\n",
    "    final_pred= []\n",
    "    # we will get something like this in the pred_arr [32.1680,12.9350,-58.4877]\n",
    "    # so will be taking the index of that argument which has the highest value here 32.1680 which corresponds to 0th index\n",
    "    for i in range(len(pred_arr)):\n",
    "        final_pred.append(np.argmax(pred_arr[i]))\n",
    "    final_pred = np.array(final_pred)\n",
    "    count = 0\n",
    "    #here we are doing a simple comparison between the predicted_arr and the original_arr to get the final accuracy\n",
    "    for i in range(len(original_arr)):\n",
    "        if final_pred[i] == original_arr[i]:\n",
    "            count+=1\n",
    "    return count/len(final_pred)"
   ]
  },
  {
   "cell_type": "code",
   "execution_count": null,
   "id": "cd50d21c",
   "metadata": {
    "_cell_guid": "e0821662-7223-4473-9ab4-0baae47c57be",
    "_uuid": "29382db4-2926-4c29-8a21-02b3236904c2",
    "collapsed": false,
    "jupyter": {
     "outputs_hidden": false
    },
    "papermill": {
     "duration": 0.040692,
     "end_time": "2021-07-20T18:25:15.639926",
     "exception": false,
     "start_time": "2021-07-20T18:25:15.599234",
     "status": "completed"
    },
    "tags": []
   },
   "outputs": [],
   "source": [
    "train_acc = get_accuracy_multiclass(predictions_train,y_train)\n",
    "test_acc  = get_accuracy_multiclass(predictions_test,y_test)"
   ]
  },
  {
   "cell_type": "code",
   "execution_count": null,
   "id": "3f91b89d",
   "metadata": {
    "_cell_guid": "19fc14c5-bb9c-4988-90f7-87c94f8d9694",
    "_uuid": "07c02b8a-5044-4f5e-b610-1524495974ca",
    "collapsed": false,
    "jupyter": {
     "outputs_hidden": false
    },
    "papermill": {
     "duration": 0.041462,
     "end_time": "2021-07-20T18:25:15.714529",
     "exception": false,
     "start_time": "2021-07-20T18:25:15.673067",
     "status": "completed"
    },
    "tags": []
   },
   "outputs": [],
   "source": [
    "print(f\"Training Accuracy: {round(train_acc*100,3)}\")\n",
    "print(f\"Test Accuracy: {round(test_acc*100,3)}\")"
   ]
  },
  {
   "cell_type": "code",
   "execution_count": null,
   "id": "2bc542ff-aef5-49d7-8127-5905acde9345",
   "metadata": {},
   "outputs": [],
   "source": []
  }
 ],
 "metadata": {
  "kernelspec": {
   "display_name": "Python 3",
   "language": "python",
   "name": "python3"
  },
  "language_info": {
   "codemirror_mode": {
    "name": "ipython",
    "version": 3
   },
   "file_extension": ".py",
   "mimetype": "text/x-python",
   "name": "python",
   "nbconvert_exporter": "python",
   "pygments_lexer": "ipython3",
   "version": "3.11.9"
  },
  "papermill": {
   "default_parameters": {},
   "duration": 15.730891,
   "end_time": "2021-07-20T18:25:17.340876",
   "environment_variables": {},
   "exception": null,
   "input_path": "__notebook__.ipynb",
   "output_path": "__notebook__.ipynb",
   "parameters": {},
   "start_time": "2021-07-20T18:25:01.609985",
   "version": "2.3.3"
  },
  "widgets": {
   "application/vnd.jupyter.widget-state+json": {
    "state": {},
    "version_major": 2,
    "version_minor": 0
   }
  }
 },
 "nbformat": 4,
 "nbformat_minor": 5
}
