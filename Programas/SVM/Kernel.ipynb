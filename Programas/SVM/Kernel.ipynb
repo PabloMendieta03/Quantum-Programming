{
 "cells": [
  {
   "cell_type": "markdown",
   "metadata": {},
   "source": [
    "# **TRABAJANDO CON KERNELS**"
   ]
  },
  {
   "cell_type": "markdown",
   "metadata": {},
   "source": [
    "· PABLO MENDIETA RUIZ \n",
    "\n",
    "· 09 / 10 / 2024 "
   ]
  },
  {
   "cell_type": "markdown",
   "metadata": {},
   "source": [
    "## **Carga de la base de Datos**"
   ]
  },
  {
   "cell_type": "code",
   "execution_count": 1,
   "metadata": {},
   "outputs": [],
   "source": [
    "# Importación de todas las librerias necesarias \n",
    "import numpy as np\n",
    "import pandas as pd\n",
    "import matplotlib.pyplot as plt\n",
    "from sklearn.svm import SVC\n",
    "from sklearn.metrics import accuracy_score\n",
    "from sklearn.model_selection import train_test_split\n",
    "from sklearn.datasets import load_iris"
   ]
  },
  {
   "cell_type": "code",
   "execution_count": 2,
   "metadata": {},
   "outputs": [],
   "source": [
    "# Carga del Dataset\n",
    "data = load_iris()\n",
    "X = data.data\n",
    "y = data.target\n",
    "\n",
    "# Dividir en entrenamiento (80%) y prueba (20%)\n",
    "X_train, X_test, y_train, y_test = train_test_split(X, y, test_size=0.2, random_state=42, stratify=y)"
   ]
  },
  {
   "cell_type": "markdown",
   "metadata": {},
   "source": [
    "Creación del Kernel Lineal "
   ]
  },
  {
   "cell_type": "code",
   "execution_count": 3,
   "metadata": {},
   "outputs": [],
   "source": [
    "\n",
    "def calculator_kernel(X1, X2):\n",
    "    \"\"\"\n",
    "    Calcula el kernel lineal entre dos matrices X1 y X2 usando bucles anidados.\n",
    "    Puede trabajar con DataFrames de pandas o numpy arrays.\n",
    "    \"\"\"\n",
    "    # Asegurarse de que X1 y X2 sean numpy arrays\n",
    "    if isinstance(X1, pd.DataFrame):\n",
    "        X1 = X1.values\n",
    "    if isinstance(X2, pd.DataFrame):\n",
    "        X2 = X2.values\n",
    "    \n",
    "    # Obtener las dimensiones de las matrices\n",
    "    n_samples_1, n_features = X1.shape\n",
    "    n_samples_2 = X2.shape[0]\n",
    "    \n",
    "    # Crear una matriz de ceros para almacenar el resultado\n",
    "    kernel_matrix = np.zeros((n_samples_1, n_samples_2))\n",
    "    \n",
    "    # Bucle anidado para calcular el producto escalar entre cada fila de X1 y X2\n",
    "    for i in range(n_samples_1):\n",
    "        for j in range(n_samples_2):\n",
    "            dot_product = 0\n",
    "            for k in range(n_features):\n",
    "                dot_product += X1[i, k] * X2[j, k]\n",
    "            kernel_matrix[i, j] = dot_product\n",
    "    \n",
    "    return kernel_matrix\n",
    "\n",
    "# Calcular el kernel\n",
    "kernel_train = calculator_kernel(X_train, X_train)\n",
    "kernel_test = calculator_kernel(X_test, X_train)\n"
   ]
  },
  {
   "cell_type": "markdown",
   "metadata": {},
   "source": [
    "Creación del Kernel NO lineal "
   ]
  },
  {
   "cell_type": "code",
   "execution_count": 4,
   "metadata": {},
   "outputs": [],
   "source": [
    "\n",
    "# Función para calcular el kernel usando logaritmos\n",
    "def calculator_kernel_no_lineal(X1, X2):\n",
    "    if isinstance(X1, pd.DataFrame):\n",
    "        X1 = X1.values\n",
    "    if isinstance(X2, pd.DataFrame):\n",
    "        X2 = X2.values\n",
    "    \n",
    "    n_samples_1, n_features = X1.shape\n",
    "    n_samples_2 = X2.shape[0]\n",
    "    kernel_matrix = np.zeros((n_samples_1, n_samples_2))\n",
    "    \n",
    "    for i in range(n_samples_1):\n",
    "        for j in range(n_samples_2):\n",
    "            dot_product = 0\n",
    "            for k in range(n_features):\n",
    "                dot_product += np.log1p(X1[i, k]) * np.log1p(X2[j, k])  # Usar logaritmos\n",
    "            kernel_matrix[i, j] = dot_product\n",
    "            \n",
    "    return kernel_matrix\n",
    "\n",
    "# Calcular el kernel\n",
    "kernel_train_no_lineal = calculator_kernel_no_lineal(X_train, X_train)\n",
    "kernel_test_no_lineal = calculator_kernel_no_lineal(X_test, X_train)\n"
   ]
  },
  {
   "cell_type": "markdown",
   "metadata": {},
   "source": [
    "## Pruebas de los kernels con el modelo SVC"
   ]
  },
  {
   "cell_type": "code",
   "execution_count": 5,
   "metadata": {},
   "outputs": [
    {
     "name": "stdout",
     "output_type": "stream",
     "text": [
      "Precisión del modelo SVC con kernel lineal: 1.0000\n"
     ]
    }
   ],
   "source": [
    "# Crear el modelo SVC con kernel precomputado\n",
    "svc_model = SVC(kernel='precomputed')\n",
    "\n",
    "# Entrenar el modelo\n",
    "svc_model.fit(kernel_train, y_train)\n",
    "\n",
    "# Predecir con el kernel precomputado\n",
    "y_pred = svc_model.predict(kernel_test)\n",
    "\n",
    "# Evaluar la precisión del modelo\n",
    "accuracy = accuracy_score(y_test, y_pred)\n",
    "print(f\"Precisión del modelo SVC con kernel lineal: {accuracy:.4f}\")"
   ]
  },
  {
   "cell_type": "code",
   "execution_count": 6,
   "metadata": {},
   "outputs": [
    {
     "name": "stdout",
     "output_type": "stream",
     "text": [
      "Precisión del modelo SVC con kernel personalizado: 0.9333\n"
     ]
    }
   ],
   "source": [
    "# Crear el modelo SVC con kernel precomputado\n",
    "svc_model = SVC(kernel='precomputed')\n",
    "\n",
    "# Entrenar el modelo\n",
    "svc_model.fit(kernel_train_no_lineal, y_train)\n",
    "\n",
    "# Predecir con el kernel precomputado\n",
    "y_pred = svc_model.predict(kernel_test_no_lineal)\n",
    "\n",
    "# Evaluar la precisión del modelo\n",
    "accuracy = accuracy_score(y_test, y_pred)\n",
    "print(f\"Precisión del modelo SVC con kernel personalizado: {accuracy:.4f}\")"
   ]
  }
 ],
 "metadata": {
  "kernelspec": {
   "display_name": "Python 3",
   "language": "python",
   "name": "python3"
  },
  "language_info": {
   "codemirror_mode": {
    "name": "ipython",
    "version": 3
   },
   "file_extension": ".py",
   "mimetype": "text/x-python",
   "name": "python",
   "nbconvert_exporter": "python",
   "pygments_lexer": "ipython3",
   "version": "3.11.9"
  }
 },
 "nbformat": 4,
 "nbformat_minor": 2
}
