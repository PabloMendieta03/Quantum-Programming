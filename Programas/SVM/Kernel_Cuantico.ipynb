{
 "cells": [
  {
   "cell_type": "markdown",
   "metadata": {},
   "source": [
    "### 23 / 10 / 2024 \n"
   ]
  },
  {
   "cell_type": "markdown",
   "metadata": {},
   "source": [
    "* Hacer un Kernel Personalizado cuántico en el que se transforman los vectores metiendo las coordenadas del vector en un circuito cómo ángulos de puertas cuánticas de rotación y creando entrelazamiento, luego sacamos el *STATEVECTOR* y ese el el vector transformado. "
   ]
  },
  {
   "cell_type": "code",
   "execution_count": 1,
   "metadata": {},
   "outputs": [],
   "source": [
    "# Importación de todas las librerias necesarias \n",
    "import numpy as np\n",
    "import pandas as pd\n",
    "import matplotlib.pyplot as plt\n",
    "from sklearn import svm\n",
    "from sklearn.svm import SVC\n",
    "from sklearn.metrics import accuracy_score\n",
    "from sklearn.model_selection import train_test_split\n",
    "from sklearn.datasets import load_iris\n",
    "from sklearn import datasets\n",
    "from sklearn.model_selection import train_test_split\n",
    "import pandas as pd\n",
    "import numpy as np\n",
    "from sklearn.preprocessing import StandardScaler\n",
    "from sklearn.preprocessing import MinMaxScaler"
   ]
  },
  {
   "cell_type": "code",
   "execution_count": 2,
   "metadata": {},
   "outputs": [
    {
     "name": "stdout",
     "output_type": "stream",
     "text": [
      "Tamaño del conjunto de entrenamiento: (80, 2)\n",
      "Tamaño del conjunto de prueba: (20, 2)\n",
      "Tamaño de las etiquetas de entrenamiento: (80,)\n",
      "Tamaño de las etiquetas de prueba: (20,)\n"
     ]
    }
   ],
   "source": [
    "# Cargar el conjunto de datos Iris\n",
    "iris = datasets.load_iris()\n",
    "\n",
    "# Convertir a DataFrame para mayor flexibilidad\n",
    "df = pd.DataFrame(data=iris.data, columns=iris.feature_names)\n",
    "df['target'] = iris.target\n",
    "\n",
    "df = df[['sepal length (cm)', 'sepal width (cm)', 'target']]\n",
    "\n",
    "# Eliminar una de las clases \n",
    "df = df[df['target'] != 2]\n",
    "\n",
    "# Separar características (X) y etiquetas (y)\n",
    "X = df.drop('target', axis=1)\n",
    "y = df['target']\n",
    "\n",
    "# Dividir en conjuntos de entrenamiento y prueba (80% para entrenamiento)\n",
    "X_train, X_test, y_train, y_test = train_test_split(X, y, test_size=0.2, random_state=42)\n",
    "\n",
    "# Normalizar los datos usando MinMaxScaler\n",
    "scaler = MinMaxScaler()\n",
    "X_train = scaler.fit_transform(X_train)\n",
    "X_test = scaler.transform(X_test)\n",
    "\n",
    "\n",
    "# Imprimir la forma de los conjuntos\n",
    "print(f'Tamaño del conjunto de entrenamiento: {X_train.shape}')\n",
    "print(f'Tamaño del conjunto de prueba: {X_test.shape}')\n",
    "print(f'Tamaño de las etiquetas de entrenamiento: {y_train.shape}')\n",
    "print(f'Tamaño de las etiquetas de prueba: {y_test.shape}')"
   ]
  },
  {
   "cell_type": "markdown",
   "metadata": {},
   "source": [
    "Función para Graficar"
   ]
  },
  {
   "cell_type": "code",
   "execution_count": 3,
   "metadata": {},
   "outputs": [],
   "source": [
    "# Función para graficar la clasificación\n",
    "def graficar_clasificacion(modelo, X, y, titulo, kernel_fn):\n",
    "    plt.scatter(X[:, 0], X[:, 1], c=y, cmap='winter', s=30)\n",
    "    \n",
    "    # Crear una malla para el contorno\n",
    "    ax = plt.gca()\n",
    "    xlim = ax.get_xlim()\n",
    "    ylim = ax.get_ylim()\n",
    "    xx, yy = np.meshgrid(np.linspace(xlim[0], xlim[1], 100),\n",
    "                         np.linspace(ylim[0], ylim[1], 100))\n",
    "    \n",
    "    # Precomputar el kernel para la malla\n",
    "    X_mesh = np.c_[xx.ravel(), yy.ravel()]\n",
    "    kernel_mesh = kernel_fn(X_mesh, X)\n",
    "    \n",
    "    Z = modelo.decision_function(kernel_mesh)\n",
    "    Z = Z.reshape(xx.shape)\n",
    "\n",
    "    # Dibujar el contorno y los márgenes\n",
    "    ax.contour(xx, yy, Z, colors='k', levels=[-1, 0, 1], alpha=0.7,\n",
    "               linestyles=['--', '-', '--'])\n",
    "\n",
    "    # Dibujar los vectores soporte\n",
    "    ax.scatter(X[:, 0], X[:, 1], s=100, linewidth=1,\n",
    "               facecolors='none', edgecolors='k')\n",
    "\n",
    "    plt.title(titulo)\n",
    "    plt.show()"
   ]
  }
 ],
 "metadata": {
  "kernelspec": {
   "display_name": "Python 3",
   "language": "python",
   "name": "python3"
  },
  "language_info": {
   "codemirror_mode": {
    "name": "ipython",
    "version": 3
   },
   "file_extension": ".py",
   "mimetype": "text/x-python",
   "name": "python",
   "nbconvert_exporter": "python",
   "pygments_lexer": "ipython3",
   "version": "3.11.9"
  }
 },
 "nbformat": 4,
 "nbformat_minor": 2
}
