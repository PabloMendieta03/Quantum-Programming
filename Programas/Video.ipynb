{
 "cells": [
  {
   "cell_type": "markdown",
   "metadata": {},
   "source": [
    "# GUIDE TO QUANTUM CIRCUITS AND QUISKIT "
   ]
  },
  {
   "cell_type": "markdown",
   "metadata": {},
   "source": [
    "## Getting Started\n",
    "\n",
    "\n"
   ]
  },
  {
   "cell_type": "markdown",
   "metadata": {},
   "source": []
  },
  {
   "cell_type": "markdown",
   "metadata": {},
   "source": [
    "We need an Api Token \n",
    "\n",
    "**Next**\n",
    "\n",
    "Install Qiskit SDK & Qiskit Runtime:\n",
    "* pip install qiskit[visualization]\n",
    "* pip install qiskit-ibm-runtime\n",
    "\n",
    "### **Patterns Workflow**\n",
    "1. **Map**: How we start with a classical problem and figure out how to map it to a quantum computer. \n",
    "2. **Optimize**: Use Qiskit's transpiler to rout and layout th circuit to physical qubit hardware, covert to basis gates of the hardware, and reduce the number of operations. \n",
    "3. **Execute**: use the Qiskit Runtime primitves to run quantum circuits on quantum hardware. (supresión d errores)\n",
    "4. **Post-process**: Process measurement data on classical computer.\n",
    "\n",
    "\n",
    "#### **Mapping Real Problems to circuits**\n",
    "1. Pick a problem that is computationally difficult.\n",
    "2. Translate the outcomes you wish to measure into either an expectation valuse or cost funciton.\n",
    "3. Map to a lattice that takes advantage of the hardware topology. \n",
    "\n",
    "\n",
    "#### **Optimize** \n",
    "1. **Plan layout**: need to go from virtual qubits to real qubits.\n",
    "2. **Fix routing**: avoid long-range interactions when possible (more SWAPS = bad).\n",
    "3. **Merge gates**: get ird of unnecesary gates or combinations.\n",
    "4. **Schedule** your circuit to visualize timing. \n",
    "5. **Incorporate** error supression.\n",
    "* dynamical Decoupling: Cancel out noise by inserting gates whose neet effect is to perform the identity operation.\n",
    "* Pauli Twirling: Insret random gates to simplify the average noise.\n",
    "\n",
    "\n",
    "#### **Transpilation** \n",
    "Inicialización. Esta etapa ejecuta todos los pasos iniciales necesarios antes de comenzar a integrar el circuito en el backend. Esto generalmente implica desarrollar instrucciones personalizadas y convertir el circuito en puertas de uno o dos cúbits.\n",
    "\n",
    "Disposición. Esta etapa asigna los qubits virtuales del circuito a los qubits físicos de un backend.\n",
    "\n",
    "Enrutamiento. Esta etapa se ejecuta después de que se haya aplicado un diseño e inyecta puertas (como puertas de intercambio) en el circuito original para que sea compatible con la conectividad del backend. \n",
    "\n",
    "Traducción. Esta etapa traduce las puertas del circuito al conjunto base del backend de destino. \n",
    "\n",
    "Optimización. Esta etapa ejecuta el ciclo de optimización principal repetidamente hasta que se alcanza una condición (como alcanzar una determinada profundidad objetivo). Tenemos cuatro niveles de optimización diferentes para elegir, que se describen a continuación.\n",
    "\n",
    "Programación. Esta etapa es para cualquier paso de programación que tenga en cuenta el hardware. En un nivel alto, la programación puede considerarse como la inserción de demoras en el circuito para tener en cuenta el tiempo de inactividad de los cúbits entre la ejecución de instrucciones.\n",
    "\n",
    "\n",
    "#### **Error Mitigation and Suppresion** \n",
    "El primer paso para reducir errores en un circuito es optimizar el diseño, el enrutamiento y minimizar el conteo de compuertas, lo cual ya hemos hecho, ya sea usando el transpiler o por nuestra cuenta. Ahora hablemos de algunos métodos más sofisticados para la supresión de errores.\n",
    "\n",
    "La supresión de errores se refiere a una clase de técnicas que transforman un circuito durante la compilación para minimizar errores. Es distinta de la mitigación de errores, que discutiremos más adelante en la sección “Ejecución”. Las dos formas más comunes de supresión de errores que usamos son desacoplamiento dinámico y Pauli twirling:\n",
    "\n",
    "El desacoplamiento dinámico se utiliza para cancelar efectivamente parte del ruido ambiental introducido cuando un qubit permanece inactivo. Al aplicar una serie de puertas en momentos específicos, se puede hacer que el ruido acumulado en una parte del período de inactividad cancele aproximadamente el ruido en la otra parte.\n",
    "Pauli twirling es una forma de insertar puertas aleatorias no para cancelar el ruido, como en el desacoplamiento dinámico, sino para simplificar el ruido. Al insertar puertas aleatorias, evita que los efectos de diferentes errores se acumulen tan rápido y hace que el ruido sea más fácil de caracterizar, ya que ahora tiene una naturaleza estocástica. Este método también forma la base de una poderosa técnica de mitigación de errores, que discutiremos más adelante.\n",
    "\n",
    "\n",
    "#### **Post Processing**\n",
    "\n"
   ]
  }
 ],
 "metadata": {
  "kernelspec": {
   "display_name": "Python 3",
   "language": "python",
   "name": "python3"
  },
  "language_info": {
   "codemirror_mode": {
    "name": "ipython",
    "version": 3
   },
   "file_extension": ".py",
   "mimetype": "text/x-python",
   "name": "python",
   "nbconvert_exporter": "python",
   "pygments_lexer": "ipython3",
   "version": "3.11.9"
  }
 },
 "nbformat": 4,
 "nbformat_minor": 2
}
